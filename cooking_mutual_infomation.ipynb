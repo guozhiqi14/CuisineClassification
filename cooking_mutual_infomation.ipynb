{
 "cells": [
  {
   "cell_type": "code",
   "execution_count": 83,
   "metadata": {
    "collapsed": false
   },
   "outputs": [
    {
     "name": "stderr",
     "output_type": "stream",
     "text": [
      "//anaconda/lib/python3.5/site-packages/sklearn/cross_validation.py:44: DeprecationWarning: This module was deprecated in version 0.18 in favor of the model_selection module into which all the refactored classes and functions are moved. Also note that the interface of the new CV iterators are different from that of this module. This module will be removed in 0.20.\n",
      "  \"This module will be removed in 0.20.\", DeprecationWarning)\n"
     ]
    }
   ],
   "source": [
    "import json\n",
    "import numpy as np\n",
    "import pandas as pd\n",
    "from sklearn.feature_extraction.text import TfidfVectorizer\n",
    "from sklearn.feature_extraction.text import TfidfTransformer\n",
    "from sklearn.preprocessing import LabelEncoder\n",
    "from sklearn.cross_validation import train_test_split\n"
   ]
  },
  {
   "cell_type": "markdown",
   "metadata": {},
   "source": [
    "a.       You'll need to  create your test set using stratified sampling, to preserve the distribution of recipes falling into different classes\n",
    "\n",
    "b.       You may also want to consider the cooking method as a feature. For instance, Chinese cooking rarely (if ever?) requires baking.\n",
    "\n",
    "c.       You may want to incorporate a cost matrix to assign different penalties for wrongly classifying a recipe as coming from a cuisine that is 'very different' from it's actual cuisine.  \n",
    "\n",
    "d.       What would the misclassification rate be if you were to randomly assign a recipe to a cuisine, according to the proportion of recipes in the training data that fell into that cuisine? This would be a good baseline against which to compare the performance of your models."
   ]
  },
  {
   "cell_type": "code",
   "execution_count": 12,
   "metadata": {
    "collapsed": false
   },
   "outputs": [
    {
     "data": {
      "text/plain": [
       "(39774, 3)"
      ]
     },
     "execution_count": 12,
     "metadata": {},
     "output_type": "execute_result"
    }
   ],
   "source": [
    "import pandas as pd\n",
    "train_set = pd.read_json('train.json') \n",
    "ingred = []\n",
    "for x in train_set['ingredients']:\n",
    "    for ingre in x:\n",
    "        ingred.append(ingre)\n",
    "\n",
    "ingredients = set(ingred)"
   ]
  },
  {
   "cell_type": "code",
   "execution_count": 123,
   "metadata": {
    "collapsed": false
   },
   "outputs": [
    {
     "data": {
      "text/plain": [
       "6714"
      ]
     },
     "execution_count": 123,
     "metadata": {},
     "output_type": "execute_result"
    }
   ],
   "source": [
    "len(ingredients)"
   ]
  },
  {
   "cell_type": "code",
   "execution_count": 66,
   "metadata": {
    "collapsed": false
   },
   "outputs": [
    {
     "data": {
      "text/plain": [
       "(9944, 2)"
      ]
     },
     "execution_count": 66,
     "metadata": {},
     "output_type": "execute_result"
    }
   ],
   "source": [
    "test_set = pd.read_json('test.json') \n",
    "test_set.shape"
   ]
  },
  {
   "cell_type": "code",
   "execution_count": 4,
   "metadata": {
    "collapsed": false
   },
   "outputs": [
    {
     "name": "stdout",
     "output_type": "stream",
     "text": [
      "<class 'pandas.core.series.Series'>\n"
     ]
    },
    {
     "data": {
      "text/html": [
       "<div>\n",
       "<table border=\"1\" class=\"dataframe\">\n",
       "  <thead>\n",
       "    <tr style=\"text-align: right;\">\n",
       "      <th></th>\n",
       "      <th>cuisine</th>\n",
       "      <th>id</th>\n",
       "      <th>ingredients</th>\n",
       "    </tr>\n",
       "  </thead>\n",
       "  <tbody>\n",
       "    <tr>\n",
       "      <th>0</th>\n",
       "      <td>greek</td>\n",
       "      <td>10259</td>\n",
       "      <td>[romaine lettuce, black olives, grape tomatoes...</td>\n",
       "    </tr>\n",
       "    <tr>\n",
       "      <th>1</th>\n",
       "      <td>southern_us</td>\n",
       "      <td>25693</td>\n",
       "      <td>[plain flour, ground pepper, salt, tomatoes, g...</td>\n",
       "    </tr>\n",
       "    <tr>\n",
       "      <th>2</th>\n",
       "      <td>filipino</td>\n",
       "      <td>20130</td>\n",
       "      <td>[eggs, pepper, salt, mayonaise, cooking oil, g...</td>\n",
       "    </tr>\n",
       "    <tr>\n",
       "      <th>3</th>\n",
       "      <td>indian</td>\n",
       "      <td>22213</td>\n",
       "      <td>[water, vegetable oil, wheat, salt]</td>\n",
       "    </tr>\n",
       "    <tr>\n",
       "      <th>4</th>\n",
       "      <td>indian</td>\n",
       "      <td>13162</td>\n",
       "      <td>[black pepper, shallots, cornflour, cayenne pe...</td>\n",
       "    </tr>\n",
       "  </tbody>\n",
       "</table>\n",
       "</div>"
      ],
      "text/plain": [
       "       cuisine     id                                        ingredients\n",
       "0        greek  10259  [romaine lettuce, black olives, grape tomatoes...\n",
       "1  southern_us  25693  [plain flour, ground pepper, salt, tomatoes, g...\n",
       "2     filipino  20130  [eggs, pepper, salt, mayonaise, cooking oil, g...\n",
       "3       indian  22213                [water, vegetable oil, wheat, salt]\n",
       "4       indian  13162  [black pepper, shallots, cornflour, cayenne pe..."
      ]
     },
     "execution_count": 4,
     "metadata": {},
     "output_type": "execute_result"
    }
   ],
   "source": [
    "print(type(train_set['ingredients'])) \n",
    "train_set.head() "
   ]
  },
  {
   "cell_type": "code",
   "execution_count": 5,
   "metadata": {
    "collapsed": false,
    "scrolled": true
   },
   "outputs": [
    {
     "data": {
      "text/plain": [
       "20"
      ]
     },
     "execution_count": 5,
     "metadata": {},
     "output_type": "execute_result"
    }
   ],
   "source": [
    "#Totally 20 types of cusines\n",
    "len(train_set['cuisine'].unique()) "
   ]
  },
  {
   "cell_type": "code",
   "execution_count": 6,
   "metadata": {
    "collapsed": false
   },
   "outputs": [
    {
     "data": {
      "text/html": [
       "<div>\n",
       "<table border=\"1\" class=\"dataframe\">\n",
       "  <thead>\n",
       "    <tr style=\"text-align: right;\">\n",
       "      <th></th>\n",
       "      <th>cuisine</th>\n",
       "    </tr>\n",
       "  </thead>\n",
       "  <tbody>\n",
       "    <tr>\n",
       "      <th>italian</th>\n",
       "      <td>0.197063</td>\n",
       "    </tr>\n",
       "    <tr>\n",
       "      <th>mexican</th>\n",
       "      <td>0.161865</td>\n",
       "    </tr>\n",
       "    <tr>\n",
       "      <th>southern_us</th>\n",
       "      <td>0.108614</td>\n",
       "    </tr>\n",
       "    <tr>\n",
       "      <th>indian</th>\n",
       "      <td>0.075502</td>\n",
       "    </tr>\n",
       "    <tr>\n",
       "      <th>chinese</th>\n",
       "      <td>0.067205</td>\n",
       "    </tr>\n",
       "    <tr>\n",
       "      <th>french</th>\n",
       "      <td>0.066526</td>\n",
       "    </tr>\n",
       "    <tr>\n",
       "      <th>cajun_creole</th>\n",
       "      <td>0.038870</td>\n",
       "    </tr>\n",
       "    <tr>\n",
       "      <th>thai</th>\n",
       "      <td>0.038694</td>\n",
       "    </tr>\n",
       "    <tr>\n",
       "      <th>japanese</th>\n",
       "      <td>0.035777</td>\n",
       "    </tr>\n",
       "    <tr>\n",
       "      <th>greek</th>\n",
       "      <td>0.029542</td>\n",
       "    </tr>\n",
       "    <tr>\n",
       "      <th>spanish</th>\n",
       "      <td>0.024865</td>\n",
       "    </tr>\n",
       "    <tr>\n",
       "      <th>korean</th>\n",
       "      <td>0.020868</td>\n",
       "    </tr>\n",
       "    <tr>\n",
       "      <th>vietnamese</th>\n",
       "      <td>0.020742</td>\n",
       "    </tr>\n",
       "    <tr>\n",
       "      <th>moroccan</th>\n",
       "      <td>0.020642</td>\n",
       "    </tr>\n",
       "    <tr>\n",
       "      <th>british</th>\n",
       "      <td>0.020214</td>\n",
       "    </tr>\n",
       "    <tr>\n",
       "      <th>filipino</th>\n",
       "      <td>0.018982</td>\n",
       "    </tr>\n",
       "    <tr>\n",
       "      <th>irish</th>\n",
       "      <td>0.016770</td>\n",
       "    </tr>\n",
       "    <tr>\n",
       "      <th>jamaican</th>\n",
       "      <td>0.013225</td>\n",
       "    </tr>\n",
       "    <tr>\n",
       "      <th>russian</th>\n",
       "      <td>0.012294</td>\n",
       "    </tr>\n",
       "    <tr>\n",
       "      <th>brazilian</th>\n",
       "      <td>0.011741</td>\n",
       "    </tr>\n",
       "  </tbody>\n",
       "</table>\n",
       "</div>"
      ],
      "text/plain": [
       "               cuisine\n",
       "italian       0.197063\n",
       "mexican       0.161865\n",
       "southern_us   0.108614\n",
       "indian        0.075502\n",
       "chinese       0.067205\n",
       "french        0.066526\n",
       "cajun_creole  0.038870\n",
       "thai          0.038694\n",
       "japanese      0.035777\n",
       "greek         0.029542\n",
       "spanish       0.024865\n",
       "korean        0.020868\n",
       "vietnamese    0.020742\n",
       "moroccan      0.020642\n",
       "british       0.020214\n",
       "filipino      0.018982\n",
       "irish         0.016770\n",
       "jamaican      0.013225\n",
       "russian       0.012294\n",
       "brazilian     0.011741"
      ]
     },
     "execution_count": 6,
     "metadata": {},
     "output_type": "execute_result"
    }
   ],
   "source": [
    "# distribution of cuisine in dataset\n",
    "original_dist = (train_set['cuisine'].value_counts() / len(train_set)).to_frame();original_dist"
   ]
  },
  {
   "cell_type": "code",
   "execution_count": 7,
   "metadata": {
    "collapsed": false
   },
   "outputs": [
    {
     "data": {
      "text/plain": [
       "array(['greek', 'southern_us', 'filipino', 'indian', 'jamaican', 'spanish',\n",
       "       'italian', 'mexican', 'chinese', 'british', 'thai', 'vietnamese',\n",
       "       'cajun_creole', 'brazilian', 'french', 'japanese', 'irish',\n",
       "       'korean', 'moroccan', 'russian'], dtype=object)"
      ]
     },
     "execution_count": 7,
     "metadata": {},
     "output_type": "execute_result"
    }
   ],
   "source": [
    "train_set['cuisine'].unique()  "
   ]
  },
  {
   "cell_type": "code",
   "execution_count": 75,
   "metadata": {
    "collapsed": false
   },
   "outputs": [],
   "source": [
    "ingredients = train_set['ingredients']\n",
    "ingredients_list = [' '.join(x) for x in ingredients]\n"
   ]
  },
  {
   "cell_type": "code",
   "execution_count": 73,
   "metadata": {
    "collapsed": false
   },
   "outputs": [
    {
     "data": {
      "text/plain": [
       "['romaine lettuce',\n",
       " 'black olives',\n",
       " 'grape tomatoes',\n",
       " 'garlic',\n",
       " 'pepper',\n",
       " 'purple onion',\n",
       " 'seasoning',\n",
       " 'garbanzo beans',\n",
       " 'feta cheese crumbles']"
      ]
     },
     "execution_count": 73,
     "metadata": {},
     "output_type": "execute_result"
    }
   ],
   "source": [
    "train_set['ingredients'][0]"
   ]
  },
  {
   "cell_type": "markdown",
   "metadata": {},
   "source": [
    "## Bag of words"
   ]
  },
  {
   "cell_type": "code",
   "execution_count": 76,
   "metadata": {
    "collapsed": false
   },
   "outputs": [
    {
     "data": {
      "text/plain": [
       "(39774, 2970)"
      ]
     },
     "execution_count": 76,
     "metadata": {},
     "output_type": "execute_result"
    }
   ],
   "source": [
    "from sklearn.feature_extraction.text import CountVectorizer\n",
    "count_vect = CountVectorizer(stop_words='english',lowercase = True)\n",
    "X_train_tdm = count_vect.fit_transform(ingredients_list) \n",
    "X_train_tdm.shape"
   ]
  },
  {
   "cell_type": "code",
   "execution_count": 77,
   "metadata": {
    "collapsed": false
   },
   "outputs": [],
   "source": [
    "X_train, X_valid, y_train, y_valid = train_test_split( \n",
    "    X_train_tdm,train_set['cuisine'], test_size=0.25, random_state=0) "
   ]
  },
  {
   "cell_type": "code",
   "execution_count": 78,
   "metadata": {
    "collapsed": false
   },
   "outputs": [
    {
     "data": {
      "text/plain": [
       "(29830, 2970)"
      ]
     },
     "execution_count": 78,
     "metadata": {},
     "output_type": "execute_result"
    }
   ],
   "source": [
    "X_train.shape"
   ]
  },
  {
   "cell_type": "code",
   "execution_count": 83,
   "metadata": {
    "collapsed": false
   },
   "outputs": [
    {
     "data": {
      "text/plain": [
       "CountVectorizer(analyzer='word', binary=False, decode_error='strict',\n",
       "        dtype=<class 'numpy.int64'>, encoding='utf-8', input='content',\n",
       "        lowercase=True, max_df=1.0, max_features=None, min_df=1,\n",
       "        ngram_range=(1, 1), preprocessor=None, stop_words='english',\n",
       "        strip_accents=None, token_pattern='(?u)\\\\b\\\\w\\\\w+\\\\b',\n",
       "        tokenizer=None, vocabulary=None)"
      ]
     },
     "execution_count": 83,
     "metadata": {},
     "output_type": "execute_result"
    }
   ],
   "source": [
    "count_vect"
   ]
  },
  {
   "cell_type": "code",
   "execution_count": 11,
   "metadata": {
    "collapsed": true
   },
   "outputs": [],
   "source": [
    "labelencoder = LabelEncoder()\n",
    "y_train = labelencoder.fit_transform(y_train)\n",
    "y_valid = labelencoder.transform(y_valid) "
   ]
  },
  {
   "cell_type": "markdown",
   "metadata": {},
   "source": [
    "### Stratified sampling, to preserve the distribution of recipes falling into different classes"
   ]
  },
  {
   "cell_type": "code",
   "execution_count": 12,
   "metadata": {
    "collapsed": false
   },
   "outputs": [
    {
     "data": {
      "text/html": [
       "<div>\n",
       "<table border=\"1\" class=\"dataframe\">\n",
       "  <thead>\n",
       "    <tr style=\"text-align: right;\">\n",
       "      <th></th>\n",
       "      <th>train</th>\n",
       "      <th>test</th>\n",
       "      <th>original</th>\n",
       "    </tr>\n",
       "  </thead>\n",
       "  <tbody>\n",
       "    <tr>\n",
       "      <th>brazilian</th>\n",
       "      <td>0.011633</td>\n",
       "      <td>0.012068</td>\n",
       "      <td>0.011741</td>\n",
       "    </tr>\n",
       "    <tr>\n",
       "      <th>british</th>\n",
       "      <td>0.020315</td>\n",
       "      <td>0.019912</td>\n",
       "      <td>0.020214</td>\n",
       "    </tr>\n",
       "    <tr>\n",
       "      <th>cajun_creole</th>\n",
       "      <td>0.039692</td>\n",
       "      <td>0.036404</td>\n",
       "      <td>0.038870</td>\n",
       "    </tr>\n",
       "    <tr>\n",
       "      <th>chinese</th>\n",
       "      <td>0.066276</td>\n",
       "      <td>0.069992</td>\n",
       "      <td>0.067205</td>\n",
       "    </tr>\n",
       "    <tr>\n",
       "      <th>filipino</th>\n",
       "      <td>0.019242</td>\n",
       "      <td>0.018202</td>\n",
       "      <td>0.018982</td>\n",
       "    </tr>\n",
       "    <tr>\n",
       "      <th>french</th>\n",
       "      <td>0.066644</td>\n",
       "      <td>0.066171</td>\n",
       "      <td>0.066526</td>\n",
       "    </tr>\n",
       "    <tr>\n",
       "      <th>greek</th>\n",
       "      <td>0.029266</td>\n",
       "      <td>0.030370</td>\n",
       "      <td>0.029542</td>\n",
       "    </tr>\n",
       "    <tr>\n",
       "      <th>indian</th>\n",
       "      <td>0.074422</td>\n",
       "      <td>0.078741</td>\n",
       "      <td>0.075502</td>\n",
       "    </tr>\n",
       "    <tr>\n",
       "      <th>irish</th>\n",
       "      <td>0.017030</td>\n",
       "      <td>0.015990</td>\n",
       "      <td>0.016770</td>\n",
       "    </tr>\n",
       "    <tr>\n",
       "      <th>italian</th>\n",
       "      <td>0.197989</td>\n",
       "      <td>0.194288</td>\n",
       "      <td>0.197063</td>\n",
       "    </tr>\n",
       "    <tr>\n",
       "      <th>jamaican</th>\n",
       "      <td>0.012705</td>\n",
       "      <td>0.014783</td>\n",
       "      <td>0.013225</td>\n",
       "    </tr>\n",
       "    <tr>\n",
       "      <th>japanese</th>\n",
       "      <td>0.036038</td>\n",
       "      <td>0.034996</td>\n",
       "      <td>0.035777</td>\n",
       "    </tr>\n",
       "    <tr>\n",
       "      <th>korean</th>\n",
       "      <td>0.021690</td>\n",
       "      <td>0.018403</td>\n",
       "      <td>0.020868</td>\n",
       "    </tr>\n",
       "    <tr>\n",
       "      <th>mexican</th>\n",
       "      <td>0.161146</td>\n",
       "      <td>0.164019</td>\n",
       "      <td>0.161865</td>\n",
       "    </tr>\n",
       "    <tr>\n",
       "      <th>moroccan</th>\n",
       "      <td>0.020851</td>\n",
       "      <td>0.020012</td>\n",
       "      <td>0.020642</td>\n",
       "    </tr>\n",
       "    <tr>\n",
       "      <th>russian</th>\n",
       "      <td>0.012437</td>\n",
       "      <td>0.011866</td>\n",
       "      <td>0.012294</td>\n",
       "    </tr>\n",
       "    <tr>\n",
       "      <th>southern_us</th>\n",
       "      <td>0.108750</td>\n",
       "      <td>0.108206</td>\n",
       "      <td>0.108614</td>\n",
       "    </tr>\n",
       "    <tr>\n",
       "      <th>spanish</th>\n",
       "      <td>0.024707</td>\n",
       "      <td>0.025342</td>\n",
       "      <td>0.024865</td>\n",
       "    </tr>\n",
       "    <tr>\n",
       "      <th>thai</th>\n",
       "      <td>0.038351</td>\n",
       "      <td>0.039722</td>\n",
       "      <td>0.038694</td>\n",
       "    </tr>\n",
       "    <tr>\n",
       "      <th>vietnamese</th>\n",
       "      <td>0.020818</td>\n",
       "      <td>0.020515</td>\n",
       "      <td>0.020742</td>\n",
       "    </tr>\n",
       "  </tbody>\n",
       "</table>\n",
       "</div>"
      ],
      "text/plain": [
       "                 train      test  original\n",
       "brazilian     0.011633  0.012068  0.011741\n",
       "british       0.020315  0.019912  0.020214\n",
       "cajun_creole  0.039692  0.036404  0.038870\n",
       "chinese       0.066276  0.069992  0.067205\n",
       "filipino      0.019242  0.018202  0.018982\n",
       "french        0.066644  0.066171  0.066526\n",
       "greek         0.029266  0.030370  0.029542\n",
       "indian        0.074422  0.078741  0.075502\n",
       "irish         0.017030  0.015990  0.016770\n",
       "italian       0.197989  0.194288  0.197063\n",
       "jamaican      0.012705  0.014783  0.013225\n",
       "japanese      0.036038  0.034996  0.035777\n",
       "korean        0.021690  0.018403  0.020868\n",
       "mexican       0.161146  0.164019  0.161865\n",
       "moroccan      0.020851  0.020012  0.020642\n",
       "russian       0.012437  0.011866  0.012294\n",
       "southern_us   0.108750  0.108206  0.108614\n",
       "spanish       0.024707  0.025342  0.024865\n",
       "thai          0.038351  0.039722  0.038694\n",
       "vietnamese    0.020818  0.020515  0.020742"
      ]
     },
     "execution_count": 12,
     "metadata": {},
     "output_type": "execute_result"
    }
   ],
   "source": [
    "train_distribution = (pd.Series(labelencoder.inverse_transform(y_train)).value_counts()/ len(y_train)).to_frame()\n",
    "test_distribution = (pd.Series(labelencoder.inverse_transform(y_valid)).value_counts() / len(y_valid)).to_frame()\n",
    "cuisine_dist = (pd.concat([train_distribution, test_distribution,original_dist], axis=1))\n",
    "cuisine_dist.columns = ['train','test','original'] ;cuisine_dist\n"
   ]
  },
  {
   "cell_type": "code",
   "execution_count": 13,
   "metadata": {
    "collapsed": false
   },
   "outputs": [
    {
     "data": {
      "text/html": [
       "<div>\n",
       "<table border=\"1\" class=\"dataframe\">\n",
       "  <thead>\n",
       "    <tr style=\"text-align: right;\">\n",
       "      <th></th>\n",
       "      <th>italian</th>\n",
       "      <th>mexican</th>\n",
       "      <th>southern_us</th>\n",
       "      <th>indian</th>\n",
       "      <th>french</th>\n",
       "      <th>chinese</th>\n",
       "      <th>cajun_creole</th>\n",
       "      <th>thai</th>\n",
       "      <th>japanese</th>\n",
       "      <th>greek</th>\n",
       "      <th>spanish</th>\n",
       "      <th>korean</th>\n",
       "      <th>moroccan</th>\n",
       "      <th>vietnamese</th>\n",
       "      <th>british</th>\n",
       "      <th>filipino</th>\n",
       "      <th>irish</th>\n",
       "      <th>jamaican</th>\n",
       "      <th>russian</th>\n",
       "      <th>brazilian</th>\n",
       "    </tr>\n",
       "  </thead>\n",
       "  <tbody>\n",
       "    <tr>\n",
       "      <th>0</th>\n",
       "      <td>0.197989</td>\n",
       "      <td>0.161146</td>\n",
       "      <td>0.10875</td>\n",
       "      <td>0.074422</td>\n",
       "      <td>0.066644</td>\n",
       "      <td>0.066276</td>\n",
       "      <td>0.039692</td>\n",
       "      <td>0.038351</td>\n",
       "      <td>0.036038</td>\n",
       "      <td>0.029266</td>\n",
       "      <td>0.024707</td>\n",
       "      <td>0.02169</td>\n",
       "      <td>0.020851</td>\n",
       "      <td>0.020818</td>\n",
       "      <td>0.020315</td>\n",
       "      <td>0.019242</td>\n",
       "      <td>0.01703</td>\n",
       "      <td>0.012705</td>\n",
       "      <td>0.012437</td>\n",
       "      <td>0.011633</td>\n",
       "    </tr>\n",
       "  </tbody>\n",
       "</table>\n",
       "</div>"
      ],
      "text/plain": [
       "    italian   mexican  southern_us    indian    french   chinese  \\\n",
       "0  0.197989  0.161146      0.10875  0.074422  0.066644  0.066276   \n",
       "\n",
       "   cajun_creole      thai  japanese     greek   spanish   korean  moroccan  \\\n",
       "0      0.039692  0.038351  0.036038  0.029266  0.024707  0.02169  0.020851   \n",
       "\n",
       "   vietnamese   british  filipino    irish  jamaican   russian  brazilian  \n",
       "0    0.020818  0.020315  0.019242  0.01703  0.012705  0.012437   0.011633  "
      ]
     },
     "execution_count": 13,
     "metadata": {},
     "output_type": "execute_result"
    }
   ],
   "source": [
    "train_distribution=(pd.Series(labelencoder.inverse_transform(y_train)).value_counts()/ len(y_train)).to_frame()\n",
    "train_distribution.T"
   ]
  },
  {
   "cell_type": "code",
   "execution_count": 14,
   "metadata": {
    "collapsed": false
   },
   "outputs": [
    {
     "data": {
      "text/html": [
       "<div>\n",
       "<table border=\"1\" class=\"dataframe\">\n",
       "  <thead>\n",
       "    <tr style=\"text-align: right;\">\n",
       "      <th></th>\n",
       "      <th>italian</th>\n",
       "      <th>mexican</th>\n",
       "      <th>southern_us</th>\n",
       "      <th>indian</th>\n",
       "      <th>chinese</th>\n",
       "      <th>french</th>\n",
       "      <th>thai</th>\n",
       "      <th>cajun_creole</th>\n",
       "      <th>japanese</th>\n",
       "      <th>greek</th>\n",
       "      <th>spanish</th>\n",
       "      <th>vietnamese</th>\n",
       "      <th>moroccan</th>\n",
       "      <th>british</th>\n",
       "      <th>korean</th>\n",
       "      <th>filipino</th>\n",
       "      <th>irish</th>\n",
       "      <th>jamaican</th>\n",
       "      <th>brazilian</th>\n",
       "      <th>russian</th>\n",
       "    </tr>\n",
       "  </thead>\n",
       "  <tbody>\n",
       "    <tr>\n",
       "      <th>0</th>\n",
       "      <td>0.194288</td>\n",
       "      <td>0.164019</td>\n",
       "      <td>0.108206</td>\n",
       "      <td>0.078741</td>\n",
       "      <td>0.069992</td>\n",
       "      <td>0.066171</td>\n",
       "      <td>0.039722</td>\n",
       "      <td>0.036404</td>\n",
       "      <td>0.034996</td>\n",
       "      <td>0.03037</td>\n",
       "      <td>0.025342</td>\n",
       "      <td>0.020515</td>\n",
       "      <td>0.020012</td>\n",
       "      <td>0.019912</td>\n",
       "      <td>0.018403</td>\n",
       "      <td>0.018202</td>\n",
       "      <td>0.01599</td>\n",
       "      <td>0.014783</td>\n",
       "      <td>0.012068</td>\n",
       "      <td>0.011866</td>\n",
       "    </tr>\n",
       "  </tbody>\n",
       "</table>\n",
       "</div>"
      ],
      "text/plain": [
       "    italian   mexican  southern_us    indian   chinese    french      thai  \\\n",
       "0  0.194288  0.164019     0.108206  0.078741  0.069992  0.066171  0.039722   \n",
       "\n",
       "   cajun_creole  japanese    greek   spanish  vietnamese  moroccan   british  \\\n",
       "0      0.036404  0.034996  0.03037  0.025342    0.020515  0.020012  0.019912   \n",
       "\n",
       "     korean  filipino    irish  jamaican  brazilian   russian  \n",
       "0  0.018403  0.018202  0.01599  0.014783   0.012068  0.011866  "
      ]
     },
     "execution_count": 14,
     "metadata": {},
     "output_type": "execute_result"
    }
   ],
   "source": [
    "test_distribution = (pd.Series(labelencoder.inverse_transform(y_valid)).value_counts() / len(y_valid)).to_frame()\n",
    "test_distribution.T"
   ]
  },
  {
   "cell_type": "code",
   "execution_count": null,
   "metadata": {
    "collapsed": false
   },
   "outputs": [
    {
     "name": "stdout",
     "output_type": "stream",
     "text": [
      "C =  0.001 Score: 0.595032180209\n",
      "C =  0.01 Score: 0.7252614642\n"
     ]
    }
   ],
   "source": [
    "from sklearn.linear_model import LogisticRegression\n",
    "C_penalty = [10**i for i in range(-3,3)]\n",
    "for C_para in C_penalty:\n",
    "    LogReg = LogisticRegression(C=C_para)\n",
    "    LogReg = LogReg.fit(X_train,y_train)\n",
    "    print('C = ',C_para, 'Score:',LogReg.score(X_valid, y_valid) ) "
   ]
  },
  {
   "cell_type": "code",
   "execution_count": null,
   "metadata": {
    "collapsed": false
   },
   "outputs": [],
   "source": [
    "from sklearn.naive_bayes import MultinomialNB\n",
    "from sklearn import metrics\n",
    "\n",
    "clf_NB = MultinomialNB(alpha=0.01, fit_prior = True)\n",
    "clf_NB.fit(X_train, y_train) \n",
    "\n",
    "predict_nb = clf_NB.predict(X_valid) \n",
    "print (metrics.accuracy_score(y_valid, predict_nb)) "
   ]
  },
  {
   "cell_type": "code",
   "execution_count": null,
   "metadata": {
    "collapsed": false
   },
   "outputs": [],
   "source": [
    "from sklearn.svm import SVC\n",
    "svc_clf = SVC(kernel='linear')\n",
    "svc_clf.fit(X_train, y_train)\n",
    "svc_clf.score(X_valid, y_valid)"
   ]
  },
  {
   "cell_type": "code",
   "execution_count": 15,
   "metadata": {
    "collapsed": false
   },
   "outputs": [
    {
     "data": {
      "text/plain": [
       "0           greek\n",
       "1     southern_us\n",
       "2        filipino\n",
       "3          indian\n",
       "4          indian\n",
       "5        jamaican\n",
       "6         spanish\n",
       "7         italian\n",
       "8         mexican\n",
       "9         italian\n",
       "10        italian\n",
       "11        chinese\n",
       "12        italian\n",
       "13        mexican\n",
       "14        italian\n",
       "Name: cuisine, dtype: object"
      ]
     },
     "execution_count": 15,
     "metadata": {},
     "output_type": "execute_result"
    }
   ],
   "source": [
    "train_set['cuisine'][:15]"
   ]
  },
  {
   "cell_type": "markdown",
   "metadata": {},
   "source": [
    "## TF-IDF"
   ]
  },
  {
   "cell_type": "code",
   "execution_count": 51,
   "metadata": {
    "collapsed": false
   },
   "outputs": [
    {
     "data": {
      "text/plain": [
       "(39774, 328053)"
      ]
     },
     "execution_count": 51,
     "metadata": {},
     "output_type": "execute_result"
    }
   ],
   "source": [
    "tfidf_transformer = TfidfTransformer()\n",
    "X_train_tfidf = tfidf_transformer.fit_transform(X_train_tdm)\n",
    "X_train_tfidf.shape "
   ]
  },
  {
   "cell_type": "code",
   "execution_count": 53,
   "metadata": {
    "collapsed": true
   },
   "outputs": [],
   "source": [
    "X_train_tfidf, X_valid_tfidf, y_train_tfidf, y_valid_tfidf = train_test_split( \n",
    "    X_train_tfidf,train_set['cuisine'], test_size=0.25, random_state=0) "
   ]
  },
  {
   "cell_type": "code",
   "execution_count": 56,
   "metadata": {
    "collapsed": true
   },
   "outputs": [],
   "source": [
    "labelencoder = LabelEncoder()\n",
    "y_train_tfidf = labelencoder.fit_transform(y_train)\n",
    "y_valid_tfidf = labelencoder.transform(y_valid) "
   ]
  },
  {
   "cell_type": "code",
   "execution_count": 57,
   "metadata": {
    "collapsed": false
   },
   "outputs": [
    {
     "name": "stdout",
     "output_type": "stream",
     "text": [
      "C =  0.001 Score: 0.194288012872\n",
      "C =  0.01 Score: 0.321198712792\n",
      "C =  0.1 Score: 0.567880128721\n",
      "C =  1 Score: 0.731798069187\n",
      "C =  10 Score: 0.782280772325\n",
      "C =  100 Score: 0.787208366854\n"
     ]
    }
   ],
   "source": [
    "C_penalty = [10**i for i in range(-3,3)]\n",
    "for C_para in C_penalty:\n",
    "    LogReg = LogisticRegression(C=C_para)\n",
    "    LogReg = LogReg.fit(X_train_tfidf,y_train_tfidf)\n",
    "    print('C = ',C_para, 'Score:',LogReg.score(X_valid_tfidf, y_valid_tfidf) ) "
   ]
  },
  {
   "cell_type": "markdown",
   "metadata": {
    "collapsed": false
   },
   "source": [
    "# Mutual Information"
   ]
  },
  {
   "cell_type": "code",
   "execution_count": 84,
   "metadata": {
    "collapsed": false
   },
   "outputs": [],
   "source": [
    "import json\n",
    "json = json.load(open('train.json'))\n",
    "#dictB = json.load(open('test.json'))\n",
    "#merged_dict = {key: value for (key, value) in (dictA.items() + dictB.items())}\n",
    "# string dump of the merged dict\n",
    "#jsonString_merged = json.dumps(merged_dict)\n"
   ]
  },
  {
   "cell_type": "code",
   "execution_count": 99,
   "metadata": {
    "collapsed": false
   },
   "outputs": [],
   "source": [
    "dictCuisineIngred = {}\n",
    "cuisines = []\n",
    "ingredients = []\n",
    "    \n",
    "for i in range(len(json)):\n",
    "    cuisine = json[i]['cuisine']\n",
    "    ingredientsPerCuisine = json[i]['ingredients']\n",
    "    if cuisine not in dictCuisineIngred.keys():\n",
    "        cuisines.append(cuisine)\n",
    "        dictCuisineIngred[cuisine] = ingredientsPerCuisine\n",
    "    else: \n",
    "        currentList = dictCuisineIngred[cuisine]\n",
    "        currentList.extend(ingredientsPerCuisine)\n",
    "        dictCuisineIngred[cuisine] = currentList\n",
    "        ingredients.extend(ingredientsPerCuisine)\n",
    "         \n",
    "ingredients = list(set(ingredients)) # unique list of ALL ingredients\n",
    "numUniqueIngredients = len(ingredients)\n",
    "numCuisines = len(cuisines)"
   ]
  },
  {
   "cell_type": "code",
   "execution_count": 17,
   "metadata": {
    "collapsed": false
   },
   "outputs": [],
   "source": [
    "import numpy as np\n",
    "import pandas as pd\n",
    "train_set = pd.read_json('train.json') \n",
    "ingred = []\n",
    "for x in train_set['ingredients']:\n",
    "    for ingre in x:\n",
    "        ingred.append(ingre)\n",
    "\n",
    "ingredients = set(ingred)\n",
    "ingredient_matrix = pd.DataFrame(np.zeros([train_set.shape[0],len(ingredients)]),columns = list(ingredients))\n",
    "for i in range(train_set.shape[0]):\n",
    "    for ingredient in train_set.iloc[i][2]:\n",
    "        ingredient_matrix.iloc[i][ingredient] +=1"
   ]
  },
  {
   "cell_type": "code",
   "execution_count": 20,
   "metadata": {
    "collapsed": false
   },
   "outputs": [
    {
     "name": "stderr",
     "output_type": "stream",
     "text": [
      "//anaconda/lib/python3.5/site-packages/ipykernel/__main__.py:11: VisibleDeprecationWarning: converting an array with ndim > 0 to an index will result in an error in the future\n"
     ]
    }
   ],
   "source": [
    "import sklearn.feature_selection\n",
    "#calculate the mutual information of all the variables \n",
    "mutual_info = sklearn.feature_selection.mutual_info_classif(ingredient_matrix,train_set['cuisine'])\n",
    "mu = mutual_info.argsort()\n",
    "mutual_information = []\n",
    "#for i in range(len(mu)):\n",
    "#    mutual_information[i] = mutual_info[mu[i]]\n",
    "for i in range(len(mu)):\n",
    "    mutual_information.append([mutual_info[mu[i]],mu[i]])\n",
    "top_mutual = (mutual_info.shape - sum(mutual_info == 0))\n",
    "index = [x[1] for x in mutual_information[-top_mutual:]]\n",
    "#[(list(ingredients)[ind],mutual_info[ind]) for ind in index]\n",
    "ingred_mutual = [list(ingredients)[ind] for ind in index]\n",
    "#cleansed_ind_matrix = ingredient_matrix[ingred_mutual]"
   ]
  },
  {
   "cell_type": "code",
   "execution_count": 27,
   "metadata": {
    "collapsed": true
   },
   "outputs": [],
   "source": [
    "ingred_mutual = [list(ingredients)[ind] for ind in index]"
   ]
  },
  {
   "cell_type": "code",
   "execution_count": 29,
   "metadata": {
    "collapsed": false
   },
   "outputs": [
    {
     "data": {
      "text/plain": [
       "['soy sauce',\n",
       " 'sesame oil',\n",
       " 'fish sauce',\n",
       " 'ground cumin',\n",
       " 'olive oil',\n",
       " 'chili powder',\n",
       " 'grated parmesan cheese',\n",
       " 'garam masala',\n",
       " 'fresh ginger',\n",
       " 'ginger',\n",
       " 'corn starch',\n",
       " 'ground turmeric',\n",
       " 'rice vinegar',\n",
       " 'corn tortillas',\n",
       " 'extra-virgin olive oil',\n",
       " 'sour cream',\n",
       " 'all-purpose flour',\n",
       " 'butter',\n",
       " 'lime',\n",
       " 'salsa',\n",
       " 'avocado',\n",
       " 'jalapeno chilies',\n",
       " 'cumin seed',\n",
       " 'tumeric',\n",
       " 'scallions',\n",
       " 'coconut milk',\n",
       " 'beansprouts',\n",
       " 'sugar',\n",
       " 'mirin',\n",
       " 'unsalted butter',\n",
       " 'dried oregano',\n",
       " 'black beans',\n",
       " 'lemongrass',\n",
       " 'flour tortillas',\n",
       " 'ground coriander',\n",
       " 'chopped cilantro fresh',\n",
       " 'fresh basil',\n",
       " 'green onions',\n",
       " 'green chilies',\n",
       " 'buttermilk',\n",
       " 'lime juice',\n",
       " 'parmesan cheese',\n",
       " 'cajun seasoning',\n",
       " 'cumin',\n",
       " 'hoisin sauce',\n",
       " 'sake',\n",
       " 'garlic',\n",
       " 'onions',\n",
       " 'sesame seeds',\n",
       " 'fresh parsley',\n",
       " 'oil',\n",
       " 'curry powder',\n",
       " 'tomatoes',\n",
       " 'baking powder',\n",
       " 'fresh lime juice',\n",
       " 'cilantro',\n",
       " 'vegetable oil',\n",
       " 'cilantro leaves',\n",
       " 'dried thyme',\n",
       " 'milk',\n",
       " 'shallots',\n",
       " 'feta cheese crumbles',\n",
       " 'heavy cream',\n",
       " 'shredded cheddar cheese',\n",
       " 'cayenne pepper',\n",
       " 'peeled fresh ginger',\n",
       " 'ground ginger',\n",
       " 'salt',\n",
       " 'chinese five-spice powder',\n",
       " 'cinnamon sticks',\n",
       " 'oyster sauce',\n",
       " 'large eggs',\n",
       " 'Gochujang base',\n",
       " 'lemon',\n",
       " 'tortilla chips',\n",
       " 'rice noodles',\n",
       " 'ghee',\n",
       " 'dashi',\n",
       " 'shredded Monterey Jack cheese',\n",
       " 'paprika',\n",
       " 'peanut oil',\n",
       " 'red chili peppers',\n",
       " 'diced tomatoes',\n",
       " 'creole seasoning',\n",
       " 'flat leaf parsley',\n",
       " 'coriander seeds',\n",
       " 'fresh coriander',\n",
       " 'parmigiano reggiano cheese',\n",
       " 'ricotta cheese',\n",
       " 'garlic powder',\n",
       " 'andouille sausage',\n",
       " 'okra',\n",
       " 'enchilada sauce',\n",
       " 'light soy sauce',\n",
       " 'thai basil',\n",
       " 'saffron threads',\n",
       " 'cachaca',\n",
       " 'rice wine',\n",
       " 'plain yogurt',\n",
       " 'bay leaves',\n",
       " 'vanilla extract',\n",
       " 'snow peas',\n",
       " 'shrimp',\n",
       " 'ogura-an',\n",
       " 'mozzarella cheese',\n",
       " 'lemon juice',\n",
       " 'honey',\n",
       " 'baking soda',\n",
       " 'tomatillos',\n",
       " 'potatoes',\n",
       " 'fennel bulb',\n",
       " 'garlic paste',\n",
       " 'low sodium soy sauce',\n",
       " 'unsweetened coconut milk',\n",
       " 'curry leaves',\n",
       " 'dry white wine',\n",
       " 'dried basil',\n",
       " 'coriander',\n",
       " 'chickpeas',\n",
       " 'chile pepper',\n",
       " 'ground cinnamon',\n",
       " 'green bell pepper',\n",
       " 'cucumber',\n",
       " 'ground pork',\n",
       " 'lime wedges',\n",
       " 'bone-in chicken breast halves',\n",
       " 'red wine',\n",
       " 'fresh mint',\n",
       " 'carrots',\n",
       " 'violets',\n",
       " 'garlic cloves',\n",
       " 'taco seasoning mix',\n",
       " 'peperoncino',\n",
       " 'ground red pepper',\n",
       " 'shiitake',\n",
       " 'oregano',\n",
       " 'spaghetti',\n",
       " 'Shaoxing wine',\n",
       " 'shredded mozzarella cheese',\n",
       " 'toasted sesame oil',\n",
       " 'large egg yolks',\n",
       " 'celery ribs',\n",
       " 'capers',\n",
       " 'low-fat cheese',\n",
       " 'romaine lettuce',\n",
       " 'low-fat parmesan cheese',\n",
       " 'white pepper',\n",
       " 'feta cheese',\n",
       " 'onion powder',\n",
       " 'dark sesame oil',\n",
       " 'raspberry jam',\n",
       " 'brown sugar',\n",
       " 'prunes',\n",
       " 'yoghurt',\n",
       " 'sherry vinegar',\n",
       " 'mustard seeds',\n",
       " 'fresh lemon juice',\n",
       " 'fresh ginger root',\n",
       " 'ground black pepper',\n",
       " 'fresh parmesan cheese',\n",
       " 'guacamole',\n",
       " 'boneless skinless chicken breasts',\n",
       " 'red bell pepper',\n",
       " 'coriander powder',\n",
       " 'eggs',\n",
       " 'fresh basil leaves',\n",
       " 'sweet and sour mix',\n",
       " 'daikon',\n",
       " 'whole milk ricotta cheese',\n",
       " 'chicken wings',\n",
       " 'thyme',\n",
       " 'ham',\n",
       " 'vietnamese fish sauce',\n",
       " 'reduced sodium chicken broth',\n",
       " 'white onion',\n",
       " 'rock sugar',\n",
       " 'clove',\n",
       " 'bamboo shoots',\n",
       " 'wonton skins',\n",
       " 'peanuts',\n",
       " 'hot sauce',\n",
       " 'grape leaves',\n",
       " 'sato imo',\n",
       " 'anchovy fillets',\n",
       " 'low-fat buttermilk',\n",
       " 'bok choy',\n",
       " 'chili oil',\n",
       " 'textured soy protein',\n",
       " 'pasta',\n",
       " 'fresh cilantro',\n",
       " 'spring onions',\n",
       " 'collard greens',\n",
       " 'palm sugar',\n",
       " 'purple onion',\n",
       " 'old bay seasoning',\n",
       " 'toasted sesame seeds',\n",
       " 'grits',\n",
       " 'steak sauce',\n",
       " 'chilcostle chile',\n",
       " 'harissa sauce',\n",
       " 'bulb fennel',\n",
       " 'gluten-free pasta',\n",
       " 'grated lemon zest',\n",
       " 'taco seasoning',\n",
       " 'flavored syrup',\n",
       " 'white cabbage',\n",
       " 'spinach',\n",
       " 'cho-cho',\n",
       " 'red beets',\n",
       " 'green cardamom',\n",
       " 'dark brown sugar',\n",
       " 'greek style plain yogurt',\n",
       " 'togarashi',\n",
       " 'fresh chili',\n",
       " 'dark soy sauce',\n",
       " 'almond meal',\n",
       " 'provolone cheese',\n",
       " 'tortillas',\n",
       " 'grilled chicken strips',\n",
       " 'lasagna noodles',\n",
       " 'chile negro',\n",
       " 'fresh rosemary',\n",
       " 'couscous',\n",
       " 'mochiko',\n",
       " 'flank steak',\n",
       " 'self rising flour',\n",
       " 'grated coconut',\n",
       " 'unsweetened baking chocolate',\n",
       " 'low salt chicken broth',\n",
       " 'green pumpkin seeds',\n",
       " 'calamansi',\n",
       " 'maldon sea salt',\n",
       " 'gruyere cheese',\n",
       " 'bacon',\n",
       " 'white miso',\n",
       " 'gumbo file',\n",
       " 'ground blanched almonds',\n",
       " 'boneless chicken skinless thigh',\n",
       " 'double-acting baking powder',\n",
       " 'pinenuts',\n",
       " 'cake mix or white yellow',\n",
       " 'dry sherry',\n",
       " 'Sriracha',\n",
       " 'duck',\n",
       " 'fresh spinach',\n",
       " 'dashi kombu',\n",
       " 'gran marnier',\n",
       " 'semolina',\n",
       " 'Challenge Butter',\n",
       " 'Yoplait® Greek 100 blackberry pie yogurt',\n",
       " 'thai chile',\n",
       " 'chile piquin',\n",
       " 'sliced black olives',\n",
       " 'mexican chorizo',\n",
       " 'long-grain rice',\n",
       " 'arborio rice',\n",
       " 'Thai red curry paste',\n",
       " 'cheese',\n",
       " 'biga',\n",
       " 'ground nutmeg',\n",
       " 'creamy peanut butter',\n",
       " 'tomato sauce',\n",
       " 'herbes de provence',\n",
       " 'whipping cream',\n",
       " 'refried beans',\n",
       " 'mustard greens',\n",
       " 'worcestershire sauce',\n",
       " 'ratatouille',\n",
       " 'marinara sauce',\n",
       " 'corn husks',\n",
       " 'saltpeter',\n",
       " 'kohlrabi',\n",
       " 'shredded lettuce',\n",
       " 'Jimmy Dean Pork Sausage',\n",
       " 'bean paste',\n",
       " 'salt pork',\n",
       " '(15 oz.) refried beans',\n",
       " 'Ragu® Robusto!® Pasta Sauce',\n",
       " 'biscuit baking mix',\n",
       " 'lettuce',\n",
       " 'low fat chunky mushroom pasta sauce',\n",
       " 'instant chicken bouillon granules',\n",
       " 'Old El Paso Taco Seasoning Mix',\n",
       " 'cassava meal',\n",
       " 'empanada',\n",
       " 'green olives',\n",
       " 'gluten-free flour',\n",
       " 'reduced-fat sour cream',\n",
       " 'reduced fat italian dressing',\n",
       " 'table salt',\n",
       " 'balsamic vinegar',\n",
       " 'smoked sausage',\n",
       " 'egg roll wrappers',\n",
       " 'french style sandwich rolls',\n",
       " 'monterey jack',\n",
       " 'fresh dill',\n",
       " 'leg of lamb',\n",
       " 'risotto',\n",
       " 'chicken broth',\n",
       " 'chopped cilantro',\n",
       " 'white peppercorns',\n",
       " 'kimchi',\n",
       " 'bone in skinless chicken thigh',\n",
       " 'long green chilies',\n",
       " 'cardamom pods',\n",
       " 'frozen peas',\n",
       " 'lite coconut milk',\n",
       " 'salted roast peanuts',\n",
       " 'Thai eggplants',\n",
       " 'pea eggplants',\n",
       " 'chinese noodles',\n",
       " 'italian loaf',\n",
       " 'firm tofu',\n",
       " 'shaved parmesan cheese',\n",
       " 'sauce',\n",
       " 'apple cider vinegar',\n",
       " 'fennel',\n",
       " 'kaffir lime leaves',\n",
       " 'curly-leaf parsley',\n",
       " 'Mizkan Rice Vinegar',\n",
       " 'beef stock cubes',\n",
       " 'lemon peel',\n",
       " 'starch',\n",
       " 'whole milk',\n",
       " 'roast beef deli meat',\n",
       " 'hot pepper sauce',\n",
       " 'boneless chuck roast',\n",
       " 'red wine vinegar',\n",
       " 'chip plain tortilla',\n",
       " 'italian seasoning',\n",
       " 'tobiko',\n",
       " 'poppy seeds',\n",
       " 'walnut halves',\n",
       " 'almond flour',\n",
       " 'cod',\n",
       " 'low-fat tartar sauce',\n",
       " 'achiote powder',\n",
       " 'crushed tomatoes',\n",
       " 'diced bell pepper',\n",
       " 'blueberri preserv',\n",
       " 'frozen spinach',\n",
       " 'caramel ice cream',\n",
       " 'white sugar',\n",
       " 'annatto',\n",
       " 'eggplant',\n",
       " 'fine grind white cornmeal',\n",
       " 'bow-tie pasta',\n",
       " 'dried currants',\n",
       " 'dried parsley',\n",
       " 'red chili powder',\n",
       " 'vanilla',\n",
       " 'dill',\n",
       " 'file powder',\n",
       " 'pattypan squash',\n",
       " 'melted butter',\n",
       " 'jelly',\n",
       " 'paste tomato',\n",
       " 'yeast',\n",
       " 'olives',\n",
       " 'shiro miso',\n",
       " 'crème fraîche',\n",
       " 'cooking oil',\n",
       " 'cubed bread',\n",
       " \"soft goat's cheese\",\n",
       " 'unsalted margarine',\n",
       " 'kefalotyri',\n",
       " 'brine',\n",
       " 'diced lamb',\n",
       " 'burger rolls',\n",
       " 'soursop',\n",
       " 'Mexican cheese blend',\n",
       " 'greek yogurt',\n",
       " 'dumpling dough',\n",
       " 'pak choi',\n",
       " 'cummin',\n",
       " 'green beans',\n",
       " 'reduced-fat cheese',\n",
       " 'kangkong',\n",
       " 'chopped pecans',\n",
       " 'pork baby back ribs',\n",
       " 'cream of celery soup',\n",
       " 'meat-filled tortellini',\n",
       " 'peaches',\n",
       " 'clams',\n",
       " 'plum tomatoes',\n",
       " 'cracked black pepper',\n",
       " 'tuong',\n",
       " 'salt free herb seasoning',\n",
       " 'low-fat cottage cheese',\n",
       " 'Crisco Pure Vegetable Oil',\n",
       " 'lemonade',\n",
       " 'brown chicken stock',\n",
       " 'vanilla bean seeds',\n",
       " 'sweet rice flour',\n",
       " 'tarragon vinegar',\n",
       " 'diced green chilies',\n",
       " 'butter flavor vegetable shortening',\n",
       " 'cooked white rice',\n",
       " 'linguine',\n",
       " 'softened butter',\n",
       " 'light rum',\n",
       " 'frozen pound cake',\n",
       " 'Lipton® Recipe Secrets® Onion Soup Mix',\n",
       " 'roasting hen',\n",
       " 'rotisserie chicken',\n",
       " 'candy canes',\n",
       " 'napa cabbage',\n",
       " 'yellow food coloring',\n",
       " 'lumpia wrappers',\n",
       " 'chocolate cookie crumbs',\n",
       " 'cactus leaf',\n",
       " 'tilapia',\n",
       " 'basil',\n",
       " 'ground chicken',\n",
       " 'cherry tomatoes',\n",
       " 'bawang goreng',\n",
       " 'Italian seasoned panko bread crumbs',\n",
       " 'evaporated milk',\n",
       " 'poblano peppers',\n",
       " 'gluten-free bread',\n",
       " 'white vinegar',\n",
       " 'wonton wrappers',\n",
       " 'fresh shiitake mushrooms',\n",
       " 'alaskan king salmon',\n",
       " 'reduced sodium soy sauce',\n",
       " 'chorizo sausage',\n",
       " 'loose leaf black tea',\n",
       " 'unseasoned breadcrumbs',\n",
       " 'lime zest',\n",
       " 'scotch bonnet chile',\n",
       " 'Jiffy Corn Muffin Mix',\n",
       " 'boneless chicken thigh fillets',\n",
       " 'cookie crumbs',\n",
       " 'mixed dried fruit',\n",
       " 'triple sec',\n",
       " 'tart cherries',\n",
       " 'espresso',\n",
       " 'crusty whole wheat toast',\n",
       " 'cheese tortellini',\n",
       " 'cooking wine',\n",
       " 'water',\n",
       " 'reduced fat monterey jack cheese',\n",
       " 'sharp white cheddar cheese',\n",
       " 'large shrimp',\n",
       " 'asakusa nori',\n",
       " 'lean ground pork',\n",
       " 'risotto rice',\n",
       " 'green split peas',\n",
       " 'thick-cut bacon',\n",
       " 'dried apricot',\n",
       " 'shredded zucchini',\n",
       " 'ground chipotle chile pepper',\n",
       " 'chopped parsley',\n",
       " 'gaeta olives',\n",
       " 'cabbage',\n",
       " 'cavatelli',\n",
       " 'mashed cauliflower',\n",
       " 'beef carpaccio',\n",
       " 'stevia',\n",
       " 'regular soy sauce',\n",
       " 'fresh raspberries',\n",
       " 'yellow rock sugar',\n",
       " 'fat free beef broth',\n",
       " 'low-sodium fat-free chicken broth',\n",
       " 'shiraz',\n",
       " 'frozen blueberries',\n",
       " 'basmati rice',\n",
       " 'palm vinegar',\n",
       " 'jelli strawberri',\n",
       " 'frozen chopped broccoli',\n",
       " 'low sodium tomato sauce',\n",
       " 'fettuccine pasta',\n",
       " 'bread crumbs',\n",
       " 'Taco Bell Taco Seasoning Mix',\n",
       " 'light corn syrup',\n",
       " 'zucchini',\n",
       " 'rendered duck fat',\n",
       " 'sushi rice',\n",
       " 'Fisher Pecan Halves',\n",
       " 'pork tenderloin',\n",
       " 'frozen blackberries',\n",
       " 'vegan cheese',\n",
       " 'swiss chard',\n",
       " 'figs',\n",
       " 'mantou',\n",
       " 'pita loaves',\n",
       " 'sazon goya',\n",
       " 'dinosaur kale',\n",
       " 'orange glaze',\n",
       " 'frozen chopped spinach',\n",
       " 'valencia rice',\n",
       " 'rice bran',\n",
       " 'bâtarde',\n",
       " 'toasted coconut',\n",
       " 'soy crumbles',\n",
       " 'brown rice noodles',\n",
       " 'Kikkoman Oyster Sauce',\n",
       " 'split black lentils',\n",
       " 'english cucumber',\n",
       " 'salad dressing mix',\n",
       " 'demerara sugar',\n",
       " 'miso',\n",
       " 'fry mix',\n",
       " 'sirloin tip steak',\n",
       " 'fronds',\n",
       " 'rice flour',\n",
       " 'filipino eggplant',\n",
       " 'chunky salsa',\n",
       " 'Franks Hot Sauce',\n",
       " 'serrano ham',\n",
       " 'oyster mushrooms',\n",
       " 'sweet paprika',\n",
       " 'extra large shrimp',\n",
       " 'whole wheat dough',\n",
       " 'pickled okra',\n",
       " 'arbol chile',\n",
       " 'dumplings',\n",
       " 'tomato sauce low sodium',\n",
       " 'gravlax',\n",
       " 'chopped celery',\n",
       " 'ground meat',\n",
       " 'sausages',\n",
       " 'yellow corn meal',\n",
       " 'cooking apples',\n",
       " 'prosciutto',\n",
       " 'veal',\n",
       " 'english breakfast tea leaves',\n",
       " 'chinese eggplants',\n",
       " 'rolls',\n",
       " 'lipton onion soup mix',\n",
       " 'squash',\n",
       " 'cooked ham',\n",
       " 'whey',\n",
       " 'mincemeat',\n",
       " 'part-skim mozzarella cheese',\n",
       " 'serrano chile',\n",
       " 'poblano',\n",
       " 'jasmine rice',\n",
       " 'brown rice vinegar',\n",
       " 'instant rice',\n",
       " 'raw almond',\n",
       " 'fontina',\n",
       " 'jerk seasoning',\n",
       " 'water chestnuts',\n",
       " 'coconut',\n",
       " 'crust',\n",
       " 'crumb crust',\n",
       " 'low-fat flour tortillas',\n",
       " 'black moss',\n",
       " 'kamut flour',\n",
       " 'anise extract',\n",
       " 'dijon mustard',\n",
       " 'potato starch',\n",
       " 'Green Giant Whole Kernel Sweet Corn',\n",
       " 'chocolate ice cream',\n",
       " 'smoked paprika',\n",
       " 'crab meat',\n",
       " 'frozen orange juice concentrate, thawed and undiluted',\n",
       " 'dried orange peel',\n",
       " 'samphire',\n",
       " 'toffee sauce',\n",
       " 'pickled vegetables',\n",
       " 'frozen corn',\n",
       " 'sweet soy sauce',\n",
       " 'ginger liqueur',\n",
       " 'roasted pistachios',\n",
       " 'Alexia Waffle Fries',\n",
       " 'steamed rice',\n",
       " 'chopped tomatoes',\n",
       " 'CURRY GUY Smoked Garam Masala',\n",
       " 'reduced fat sharp cheddar cheese',\n",
       " 'queso manchego',\n",
       " 'pure vanilla extract',\n",
       " 'guajillo chiles',\n",
       " 'sandwich rolls',\n",
       " 'Lea & Perrins Worcestershire Sauce',\n",
       " 'whole wheat penne',\n",
       " 'greater galangal',\n",
       " 'KRAFT Shredded Low-Moisture Part-Skim Mozzarella Cheese',\n",
       " 'egg noodles, cooked and drained',\n",
       " 'ciabatta roll',\n",
       " 'meat filling',\n",
       " 'tuna packed in olive oil',\n",
       " 'pepitas',\n",
       " 'smoked & dried fish',\n",
       " 'pitted date',\n",
       " 'liquid sweetener',\n",
       " 'tamarind water',\n",
       " 'taco shells',\n",
       " 'bigoli',\n",
       " 'garlic chives',\n",
       " 'meringue powder',\n",
       " 'chicken bones',\n",
       " 'muenster cheese',\n",
       " 'McCormick Poppy Seed',\n",
       " 'pasta sheets',\n",
       " 'flour',\n",
       " 'dried dillweed',\n",
       " 'Niçoise olives',\n",
       " 'chopped onion',\n",
       " 'jambalaya rice mix',\n",
       " 'pound cake mix',\n",
       " 'octopuses',\n",
       " 'yellow rice',\n",
       " 'onion soup mix',\n",
       " 'coconut milk powder',\n",
       " 'groundnut',\n",
       " 'rajma',\n",
       " 'chipped beef',\n",
       " 'clams, well scrub',\n",
       " 'golden raisins',\n",
       " 'ground cardamom',\n",
       " 'gluten free soy sauce',\n",
       " 'low sodium vegetable juice',\n",
       " 'green chile',\n",
       " 'prosecco',\n",
       " 'veal scallops',\n",
       " 'low-sodium low-fat chicken broth',\n",
       " 'frozen shelled edamame',\n",
       " 'hakusai',\n",
       " 'cactus pad',\n",
       " 'scrod fillets',\n",
       " 'bottled italian dressing',\n",
       " 'lemon extract',\n",
       " 'nopales',\n",
       " 'chives',\n",
       " 'fish broth',\n",
       " 'pecorino cheese',\n",
       " 'pinot blanc',\n",
       " 'beef soup bones',\n",
       " 'ancho',\n",
       " 'savory',\n",
       " 'large egg whites',\n",
       " 'vanilla powder',\n",
       " 'spinach leaves',\n",
       " 'tamarind',\n",
       " 'whole wheat orzo',\n",
       " 'kalamata',\n",
       " 'tostitos',\n",
       " 'burrata',\n",
       " 'butter-flavored spray',\n",
       " 'dried udon',\n",
       " 'curry mix',\n",
       " 'panang curry paste',\n",
       " 'black salt',\n",
       " 'red',\n",
       " 'vin santo',\n",
       " 'chinese celery',\n",
       " 'low-fat plain yogurt',\n",
       " 'asiago',\n",
       " 'rotini',\n",
       " 'spice cake mix',\n",
       " 'nian gao',\n",
       " 'maple syrup',\n",
       " 'beets',\n",
       " 'boneless chicken breast',\n",
       " 'king oyster mushroom',\n",
       " 'pork rib chops',\n",
       " 'squirt',\n",
       " 'greek style seasoning',\n",
       " 'Alaskan king crab legs',\n",
       " 'orzo',\n",
       " 'white poppy seeds',\n",
       " 'pork cubes',\n",
       " 'chaat masala',\n",
       " 'mushroom soup',\n",
       " 'fresh marjoram',\n",
       " 'soba noodles',\n",
       " 'nutmeg',\n",
       " 'cassis liqueur',\n",
       " 'chana dal',\n",
       " 'salted peanuts',\n",
       " 'ground sichuan pepper',\n",
       " 'chillies',\n",
       " 'large garlic cloves',\n",
       " 'plum sauce',\n",
       " 'strawberry extract',\n",
       " 'poppyseeds',\n",
       " 'long grain brown rice',\n",
       " 'almonds',\n",
       " 'mature cheddar',\n",
       " 'dried guajillo chiles',\n",
       " 'hachiya',\n",
       " 'hog casings',\n",
       " 'pure olive oil',\n",
       " 'gnocchetti sardi',\n",
       " 'Southern Comfort Liqueur',\n",
       " 'sliced kalamata olives',\n",
       " 'low-fat spaghetti sauce',\n",
       " 'bee pollen',\n",
       " 'frozen green beans',\n",
       " 'chees fresco queso',\n",
       " 'sesame',\n",
       " 'long grain white rice',\n",
       " 'Johnsonville Andouille',\n",
       " 'cornflake crumbs',\n",
       " 'worcestershire sauce low sodium',\n",
       " 'nigari tofu',\n",
       " 'fresh sage',\n",
       " 'chopped fresh thyme',\n",
       " 'fresh cranberries',\n",
       " 'shoepeg corn',\n",
       " 'Japanese rice vinegar',\n",
       " 'fat free less sodium chicken broth',\n",
       " 'dried black mushrooms',\n",
       " 'shungiku',\n",
       " 'pork heart',\n",
       " 'orange zest',\n",
       " 'dried chile',\n",
       " 'pumpkinseed kernels',\n",
       " 'unsweetened iced tea',\n",
       " 'breasts halves',\n",
       " 'leg quarters',\n",
       " 'Thai fish sauce',\n",
       " 'dried fruit',\n",
       " 'chinese wheat noodles',\n",
       " 'sugar syrup',\n",
       " 'tofu',\n",
       " 'pecan halves',\n",
       " 'cooking spray',\n",
       " 'psyllium husks',\n",
       " 'melon',\n",
       " 'sugarcane sticks',\n",
       " 'lemon grass',\n",
       " 'assorted fresh vegetables',\n",
       " 'slider rolls',\n",
       " 'dried shiitake mushrooms',\n",
       " 'bread dough',\n",
       " 'promise buttery spread',\n",
       " 'frozen onion rings',\n",
       " 'splenda granular',\n",
       " 'salmon sashimi',\n",
       " 'orange slices',\n",
       " 'cashew nuts',\n",
       " 'ground fennel',\n",
       " 'homemade chicken broth',\n",
       " 'Bordelaise sauce',\n",
       " 'savoy spinach',\n",
       " 'egg bread',\n",
       " 'truffles',\n",
       " 'paneer',\n",
       " 'unsalted dry roast peanuts',\n",
       " 'heirloom tomatoes',\n",
       " 'moong dal',\n",
       " 'quick-cooking tapioca',\n",
       " 'cinnamon',\n",
       " 'pink grapefruit',\n",
       " 'benne seed',\n",
       " 'salmon caviar',\n",
       " 'braeburn apple',\n",
       " 'ginger root',\n",
       " 'pastis',\n",
       " 'blackstrap molasses',\n",
       " 'granulated sugar',\n",
       " 'florets',\n",
       " 'mango chutney',\n",
       " 'chocolate curls',\n",
       " 'brown mushroom',\n",
       " 'pepper',\n",
       " 'cassava',\n",
       " 'red curry paste',\n",
       " 'bone in chicken thighs',\n",
       " 'dried fig',\n",
       " 'lecithin',\n",
       " 'canadian bacon',\n",
       " 'bourbon whiskey',\n",
       " 'cream powder',\n",
       " 'Braeburn Apple',\n",
       " 'vanilla instant pudding',\n",
       " 'tangerine zest',\n",
       " 'anchovy paste',\n",
       " 'Zatarains Creole Seasoning',\n",
       " 'chocolate cake mix',\n",
       " 'jack cheese',\n",
       " 'farmer cheese',\n",
       " 'pork shoulder roast',\n",
       " 'mascarpone',\n",
       " 'chinese buns',\n",
       " 'garlic puree',\n",
       " 'sushi grade tuna',\n",
       " 'baby turnips',\n",
       " 'creme anglaise',\n",
       " '2% low fat cheddar chees',\n",
       " '33% less sodium cooked ham',\n",
       " 'medium salsa',\n",
       " 'chinese celery cabbage',\n",
       " 'diced tomatoes and green chilies',\n",
       " 'allspice',\n",
       " 'kirschenliqueur',\n",
       " 'veal loin chops',\n",
       " 'food colouring',\n",
       " 'pot pie',\n",
       " 'tzatziki',\n",
       " '40% less sodium taco seasoning',\n",
       " 'baguette',\n",
       " 'bean curd stick',\n",
       " 'thyme leaves',\n",
       " 'raspberry puree',\n",
       " 'franks',\n",
       " 'pistachios',\n",
       " 'granular sucrolose sweetener',\n",
       " 'phyllo dough',\n",
       " 'bell pepper',\n",
       " 'amchur',\n",
       " 'top round roast',\n",
       " 'pan drippings',\n",
       " 'Baileys Irish Cream Liqueur',\n",
       " 'Godiva Chocolate Liqueur',\n",
       " 'red currants',\n",
       " 'lean ground meat',\n",
       " 'glucose syrup',\n",
       " 'hots',\n",
       " 'canned black beans',\n",
       " 'black pepper',\n",
       " 'tapioca',\n",
       " 'whole snapper',\n",
       " 'cooked bacon',\n",
       " 'Sangiovese',\n",
       " 'melissa',\n",
       " 'shredded reduced fat reduced sodium swiss cheese',\n",
       " 'sweet potatoes & yams',\n",
       " 'veal knuckle',\n",
       " 'Indian spice',\n",
       " 'hand',\n",
       " 'unsalted roasted pistachios',\n",
       " 'small curd cottage cheese',\n",
       " 'mint leaves',\n",
       " 'szechwan peppercorns',\n",
       " 'jello',\n",
       " 'laksa paste',\n",
       " 'grape tomatoes',\n",
       " 'ramen noodles',\n",
       " 'lower sodium soy sauce',\n",
       " 'Crystal Farms Butter',\n",
       " 'grilled chicken breasts',\n",
       " 'king prawns',\n",
       " 'pocket bread',\n",
       " 'small red potato',\n",
       " 'quatre épices',\n",
       " 'ramen',\n",
       " 'medium shrimp',\n",
       " 'corn',\n",
       " 'farina',\n",
       " 'asafoetida',\n",
       " 'margarine spread',\n",
       " 'calabrese sausage',\n",
       " 'whole wheat flour',\n",
       " 'thai green curry paste',\n",
       " 'flowering chinese chives',\n",
       " 'boneless chicken cutlet',\n",
       " 'pie dough',\n",
       " 'whole wheat tortillas',\n",
       " 'cold milk',\n",
       " '33% less sodium ham',\n",
       " 'dark crème de cacao',\n",
       " 'small red beans',\n",
       " 'silver tequila',\n",
       " 'hoja santa leaves',\n",
       " 'light red kidney beans',\n",
       " 'varnish clams',\n",
       " 'lasagna sheets',\n",
       " 'andouille sausage links',\n",
       " 'roast duck meat',\n",
       " 'lamb rib roast',\n",
       " 'dried beef',\n",
       " 'green peppercorns',\n",
       " 'beef rump',\n",
       " 'fresh mozzarella',\n",
       " 'fat-trimmed beef flank steak',\n",
       " 'sticky rice',\n",
       " 'sweet mustard',\n",
       " 'ketchup',\n",
       " 'Boston lettuce',\n",
       " 'horseradish',\n",
       " 'flowering chives',\n",
       " 'Haas avocados',\n",
       " 'rice vermicelli',\n",
       " 'white bread crumbs',\n",
       " 'beef shank',\n",
       " 'khoa',\n",
       " 'asian fish sauce',\n",
       " 'hot chili oil',\n",
       " 'orange roughy fillet',\n",
       " 'ground turkey breast',\n",
       " 'flageolet',\n",
       " 'indian flat bread',\n",
       " 'Vietnamese coriander',\n",
       " 'maraschino',\n",
       " 'sunflower kernels',\n",
       " 'japanese peanuts',\n",
       " 'Fuyu persimmons',\n",
       " 'roma tomatoes',\n",
       " 'Japanese Mayonnaise',\n",
       " 'limoncello',\n",
       " 'cracker crumbs',\n",
       " 'lamb',\n",
       " 'dried barberries',\n",
       " 'Accent Seasoning',\n",
       " 'roast pork seasoning mix',\n",
       " 'ouzo',\n",
       " 'english muffins, split and toasted',\n",
       " 'nonfat ricotta cheese',\n",
       " 'Cinnamon Toast Crunch Cereal',\n",
       " 'napa cabbage leaves',\n",
       " 'pickling cucumbers',\n",
       " 'grated Gruyère cheese',\n",
       " 'country crock honey spread',\n",
       " 'chardonnay',\n",
       " 'skinless mahi mahi fillets',\n",
       " 'sambal ulek',\n",
       " 'collards',\n",
       " 'veal rib chops',\n",
       " 'tomato salsa',\n",
       " 'pudding',\n",
       " 'nigella seeds',\n",
       " 'fresh onion',\n",
       " 'hot Italian sausages',\n",
       " 'dried rice noodles',\n",
       " 'egg noodles',\n",
       " 'harissa',\n",
       " 'refrigerated chocolate chip cookie dough',\n",
       " 'roast beef',\n",
       " 'sirloin',\n",
       " 'red kidney beans',\n",
       " 'chinese rock sugar',\n",
       " 'cornish hens',\n",
       " 'japanese radish',\n",
       " 'pie filling',\n",
       " 'tomato garlic pasta sauce',\n",
       " 'seafood base',\n",
       " 'loaves',\n",
       " 'cayenne',\n",
       " 'star anise',\n",
       " \"I Can't Believe It's Not Butter!® All Purpose Sticks\",\n",
       " 'blueberries',\n",
       " 'Knorr Beef Stock Cubes',\n",
       " 'milk chocolate',\n",
       " 'condensed fiesta nacho cheese soup',\n",
       " 'strawberries',\n",
       " 'corned beef',\n",
       " 'soybean sprouts',\n",
       " 'yardlong beans',\n",
       " 'thyme sprigs',\n",
       " 'picholine olives',\n",
       " 'halibut',\n",
       " 'saffron',\n",
       " 'round sourdough bread',\n",
       " 'chuka soba noodles',\n",
       " 'grated orange',\n",
       " 'gomashio',\n",
       " 'milkfish',\n",
       " 'dried apple rings',\n",
       " 'Tipo 00 flour',\n",
       " 'turkey sausage links',\n",
       " 'pickled carrots',\n",
       " 'sourdough bread',\n",
       " 'brewed tea',\n",
       " 'diced chicken',\n",
       " 'White Lily Flour',\n",
       " 'flat iron steaks',\n",
       " 'orange extract',\n",
       " 'teff',\n",
       " 'fat free cream of mushroom soup',\n",
       " 'purple potatoes',\n",
       " 'golden brown sugar',\n",
       " 'raspberries',\n",
       " 'apricot halves',\n",
       " 'teas',\n",
       " 'flax seeds',\n",
       " 'ground white pepper',\n",
       " 'lime leaves',\n",
       " 'red potato',\n",
       " 'kale leaves',\n",
       " 'Massaman curry paste',\n",
       " 'blade steak',\n",
       " 'honey mustard dressing',\n",
       " 'horseradish root',\n",
       " 'celery',\n",
       " 'aka miso',\n",
       " 'reduced fat whipped topping',\n",
       " 'meat glaze',\n",
       " 'fat-free buttermilk',\n",
       " 'korean chile paste',\n",
       " 'angus',\n",
       " 'annatto oil',\n",
       " 'grapefruit',\n",
       " 'italian style stewed tomatoes',\n",
       " 'beef tenderloin',\n",
       " 'old ginger',\n",
       " 'Wish-Bone Italian Dressing',\n",
       " 'helix snails',\n",
       " 'mung bean sprouts',\n",
       " 'chili seasoning mix',\n",
       " 'spices',\n",
       " 'honey-flavored greek style yogurt',\n",
       " 'kewra water',\n",
       " 'bone in skin on chicken thigh',\n",
       " 'moose',\n",
       " 'crème de framboise',\n",
       " 'knorr italian side   creami garlic shell',\n",
       " ...]"
      ]
     },
     "execution_count": 29,
     "metadata": {},
     "output_type": "execute_result"
    }
   ],
   "source": [
    "ingred_mutual[::-1]"
   ]
  },
  {
   "cell_type": "code",
   "execution_count": 141,
   "metadata": {
    "collapsed": false
   },
   "outputs": [],
   "source": [
    "for i in range(len(mu)):\n",
    "    mutual_information.append([mutual_info[mu[i]],mu[i]])"
   ]
  },
  {
   "cell_type": "code",
   "execution_count": 30,
   "metadata": {
    "collapsed": false
   },
   "outputs": [
    {
     "name": "stderr",
     "output_type": "stream",
     "text": [
      "//anaconda/lib/python3.5/site-packages/ipykernel/__main__.py:2: VisibleDeprecationWarning: converting an array with ndim > 0 to an index will result in an error in the future\n",
      "  from ipykernel import kernelapp as app\n"
     ]
    }
   ],
   "source": [
    "top_mutual = (mutual_info.shape - sum(mutual_info == 0))\n",
    "index = [x[1] for x in mutual_information[-top_mutual:]]\n",
    "[(list(ingredients)[ind],mutual_info[ind]) for ind in index]\n",
    "cleansed_ind_matrix = ingredient_matrix[ingred_mutual]"
   ]
  },
  {
   "cell_type": "code",
   "execution_count": 33,
   "metadata": {
    "collapsed": false
   },
   "outputs": [],
   "source": [
    "cleansed_ind_matrix.to_csv(\"cleansed_ind_matrix.csv\")"
   ]
  },
  {
   "cell_type": "code",
   "execution_count": 165,
   "metadata": {
    "collapsed": false
   },
   "outputs": [],
   "source": [
    "ingred_mutual = [list(ingredients)[ind] for ind in index]"
   ]
  },
  {
   "cell_type": "code",
   "execution_count": 167,
   "metadata": {
    "collapsed": false
   },
   "outputs": [],
   "source": [
    "cleansed_ind_matrix = ingredient_matrix[ingred_mutual]"
   ]
  },
  {
   "cell_type": "code",
   "execution_count": 90,
   "metadata": {
    "collapsed": false
   },
   "outputs": [
    {
     "data": {
      "text/plain": [
       "(39774, 3787)"
      ]
     },
     "execution_count": 90,
     "metadata": {},
     "output_type": "execute_result"
    }
   ],
   "source": [
    "tfidf_transformer = TfidfTransformer()\n",
    "X_train_tfidf = tfidf_transformer.fit_transform(cleansed_ind_matrix)\n",
    "X_train_tfidf.shape "
   ]
  },
  {
   "cell_type": "code",
   "execution_count": 91,
   "metadata": {
    "collapsed": false
   },
   "outputs": [],
   "source": [
    "X_train_tfidf, X_valid_tfidf, y_train_tfidf, y_valid_tfidf = train_test_split( \n",
    "    X_train_tfidf,train_set['cuisine'], test_size=0.25, random_state=0) "
   ]
  },
  {
   "cell_type": "code",
   "execution_count": 94,
   "metadata": {
    "collapsed": false
   },
   "outputs": [
    {
     "name": "stdout",
     "output_type": "stream",
     "text": [
      "C =  0.001 Score: 0.252111826227\n",
      "C =  0.01 Score: 0.443785197104\n",
      "C =  0.1 Score: 0.65577232502\n",
      "C =  1 Score: 0.760257441673\n",
      "C =  10 Score: 0.774034593725\n",
      "C =  100 Score: 0.758346741754\n"
     ]
    }
   ],
   "source": [
    "from sklearn.linear_model import LogisticRegression\n",
    "labelencoder = LabelEncoder()\n",
    "y_train_tfidf = labelencoder.fit_transform(y_train_tfidf)\n",
    "y_valid_tfidf = labelencoder.transform(y_valid_tfidf)\n",
    "C_penalty = [10**i for i in range(-3,3)]\n",
    "for C_para in C_penalty:\n",
    "    LogReg = LogisticRegression(C=C_para)\n",
    "    LogReg = LogReg.fit(X_train_tfidf,y_train_tfidf)\n",
    "    print('C = ',C_para, 'Score:',LogReg.score(X_valid_tfidf, y_valid_tfidf) ) "
   ]
  },
  {
   "cell_type": "markdown",
   "metadata": {},
   "source": [
    "# Random Forest"
   ]
  },
  {
   "cell_type": "code",
   "execution_count": 92,
   "metadata": {
    "collapsed": true
   },
   "outputs": [],
   "source": [
    "from sklearn.ensemble import RandomForestClassifier\n",
    "labelencoder = LabelEncoder()\n",
    "y_train_tfidf = labelencoder.fit_transform(y_train_tfidf)\n",
    "y_valid_tfidf = labelencoder.transform(y_valid_tfidf)\n",
    "#random_forest = RandomForestClassifier()\n",
    "#random_forest.fit_transform()"
   ]
  },
  {
   "cell_type": "code",
   "execution_count": 96,
   "metadata": {
    "collapsed": false
   },
   "outputs": [
    {
     "name": "stderr",
     "output_type": "stream",
     "text": [
      "//anaconda/lib/python3.5/site-packages/sklearn/utils/deprecation.py:70: DeprecationWarning: Function transform is deprecated; Support to use estimators as feature selectors will be removed in version 0.19. Use SelectFromModel instead.\n",
      "  warnings.warn(msg, category=DeprecationWarning)\n"
     ]
    },
    {
     "data": {
      "text/plain": [
       "0.70595333869670152"
      ]
     },
     "execution_count": 96,
     "metadata": {},
     "output_type": "execute_result"
    }
   ],
   "source": [
    "random_forest = RandomForestClassifier(n_estimators=500, oob_score=True)\n",
    "random_forest.fit_transform(X_train_tfidf,y_train_tfidf)\n",
    "random_forest.score(X_valid_tfidf, y_valid_tfidf)"
   ]
  },
  {
   "cell_type": "code",
   "execution_count": 98,
   "metadata": {
    "collapsed": false
   },
   "outputs": [
    {
     "name": "stdout",
     "output_type": "stream",
     "text": [
      "predict   0   1    2    3    4    5    6    7   8     9  ...    11   12    13  \\\n",
      "truth                                                    ...                    \n",
      "0        38   0    0    1    1    2    0    3   0    21  ...     0    0    27   \n",
      "1         0  32    0    2    0   28    2    7   8    38  ...     0    0     7   \n",
      "2         0   1  229    1    0   11    0    4   0    32  ...     0    0    30   \n",
      "3         0   0    0  598    3    6    2    6   1    15  ...    17    8     5   \n",
      "4         2   0    2   34   75    9    0    5   0    15  ...     0    1    11   \n",
      "5         1   2    6    6    3  295    1    2   4   218  ...     2    0    15   \n",
      "6         0   1    0    2    0    7  136    5   1   113  ...     1    0    11   \n",
      "7         0   0    0    4    1    3    1  687   1    16  ...     0    0    43   \n",
      "8         1   0    1    2    1   23    0    1  32    17  ...     0    0     5   \n",
      "9         2   1    3    3    1   62   13    3   0  1736  ...     3    0    36   \n",
      "10        2   0    4   13    2    2    0   18   1     5  ...     1    1    18   \n",
      "11        0   3    0   78    1    8    0   18   0    11  ...   193    4    10   \n",
      "12        0   0    1   53    0    1    0    2   0     5  ...    10  101     1   \n",
      "13        4   0    1    2    3   23    2   12   1    58  ...     2    0  1471   \n",
      "14        0   0    0    1    0    6    1   30   0    23  ...     0    0    19   \n",
      "15        0   2    1    0    1   21    0    1   4    12  ...     0    1    11   \n",
      "16        0   1   41    4    2   40    3   13   3   105  ...     5    0    48   \n",
      "17        0   0    5    1    1   18    4    5   0   105  ...     0    1    34   \n",
      "18        1   0    0   41    4    1    1   27   0     9  ...     4    0    20   \n",
      "19        0   0    0   27    1    1    0    6   0     3  ...     4    3    12   \n",
      "All      51  43  294  873  100  567  166  855  56  2557  ...   242  120  1834   \n",
      "\n",
      "predict   14  15    16  17   18   19   All  \n",
      "truth                                       \n",
      "0          1   0    21   1    4    0   120  \n",
      "1          0   0    74   0    0    0   198  \n",
      "2          0   0    52   2    0    0   362  \n",
      "3          0   0    16   1   11    6   696  \n",
      "4          0   0    14   0   10    2   181  \n",
      "5          1   4    94   4    0    0   658  \n",
      "6          6   0    16   3    0    0   302  \n",
      "7          4   0    18   1    2    1   783  \n",
      "8          0   0    76   0    0    0   159  \n",
      "9          1   1    66   1    0    0  1932  \n",
      "10         0   1    32   0    2    0   147  \n",
      "11         0   0    20   0    2    0   348  \n",
      "12         0   0     5   0    2    2   183  \n",
      "13         3   1    45   0    1    1  1631  \n",
      "14       107   0    12   0    0    0   199  \n",
      "15         1  37    26   0    0    0   118  \n",
      "16         4   3   800   2    2    0  1076  \n",
      "17         6   0    12  60    0    0   252  \n",
      "18         0   0     3   0  268   16   395  \n",
      "19         0   0     3   0   64   80   204  \n",
      "All      134  47  1405  75  368  108  9944  \n",
      "\n",
      "[21 rows x 21 columns]\n"
     ]
    }
   ],
   "source": [
    "# Setup a dataframe -- just like R\n",
    "df = pd.DataFrame()\n",
    "df['truth'] = y_valid_tfidf\n",
    "df['predict'] = random_forest.predict(X_valid_tfidf)\n",
    "\n",
    "# Cross-tabulate predictions\n",
    "print(pd.crosstab(df['truth'], df['predict'], margins=True))"
   ]
  },
  {
   "cell_type": "markdown",
   "metadata": {},
   "source": [
    "# FUZZYWUZZY"
   ]
  },
  {
   "cell_type": "code",
   "execution_count": 1,
   "metadata": {
    "collapsed": false
   },
   "outputs": [
    {
     "name": "stderr",
     "output_type": "stream",
     "text": [
      "//anaconda/lib/python3.5/site-packages/fuzzywuzzy/fuzz.py:35: UserWarning: Using slow pure-python SequenceMatcher. Install python-Levenshtein to remove this warning\n",
      "  warnings.warn('Using slow pure-python SequenceMatcher. Install python-Levenshtein to remove this warning')\n"
     ]
    }
   ],
   "source": [
    "from fuzzywuzzy import fuzz\n",
    "from fuzzywuzzy import process"
   ]
  },
  {
   "cell_type": "code",
   "execution_count": 3,
   "metadata": {
    "collapsed": true
   },
   "outputs": [],
   "source": [
    "import numpy as np\n",
    "import pandas as pd\n",
    "train_set = pd.read_json('train.json') \n",
    "ingred = []\n",
    "for x in train_set['ingredients']:\n",
    "    for ingre in x:\n",
    "        ingred.append(ingre)\n",
    "\n",
    "ingredients = set(ingred)"
   ]
  },
  {
   "cell_type": "code",
   "execution_count": 8,
   "metadata": {
    "collapsed": false
   },
   "outputs": [
    {
     "data": {
      "text/plain": [
       "[('olive oil', 100),\n",
       " ('lemon olive oil', 90),\n",
       " ('olive oil flavored cooking spray', 90),\n",
       " ('virgin olive oil', 90),\n",
       " ('olive oil mayonnaise', 90)]"
      ]
     },
     "execution_count": 8,
     "metadata": {},
     "output_type": "execute_result"
    }
   ],
   "source": [
    "choices = list(ingredients)\n",
    "process.extract(\"olive oil\", choices)"
   ]
  },
  {
   "cell_type": "code",
   "execution_count": 21,
   "metadata": {
    "collapsed": false
   },
   "outputs": [
    {
     "data": {
      "text/plain": [
       "[('soy sauce', 100),\n",
       " ('usukuchi soy sauce', 90),\n",
       " ('wheat free soy sauce', 90),\n",
       " ('Kikkoman Soy Sauce', 90),\n",
       " ('tamari soy sauce', 90)]"
      ]
     },
     "execution_count": 21,
     "metadata": {},
     "output_type": "execute_result"
    }
   ],
   "source": [
    "process.extract(ingred_mutual[-1], ingred_mutual)"
   ]
  },
  {
   "cell_type": "code",
   "execution_count": 26,
   "metadata": {
    "collapsed": false
   },
   "outputs": [
    {
     "data": {
      "text/plain": [
       "[0.13684931429717873, 5505]"
      ]
     },
     "execution_count": 26,
     "metadata": {},
     "output_type": "execute_result"
    }
   ],
   "source": [
    "mutual_information[-1]"
   ]
  },
  {
   "cell_type": "code",
   "execution_count": 49,
   "metadata": {
    "collapsed": false
   },
   "outputs": [],
   "source": [
    "single_ingre = [ingre for ingre in list(ingred_mutual[::-1]) if len(ingre.split(' ')) == 1]"
   ]
  },
  {
   "cell_type": "code",
   "execution_count": 66,
   "metadata": {
    "collapsed": false
   },
   "outputs": [
    {
     "data": {
      "text/plain": [
       "[('salt', 90),\n",
       " ('salted dry roasted peanuts', 75),\n",
       " ('organic unsalted butter', 75),\n",
       " ('unsalted almonds', 75),\n",
       " ('salted mixed nuts', 75)]"
      ]
     },
     "execution_count": 66,
     "metadata": {},
     "output_type": "execute_result"
    }
   ],
   "source": [
    "process.extract('salt', ingred_mutual)"
   ]
  },
  {
   "cell_type": "code",
   "execution_count": null,
   "metadata": {
    "collapsed": true
   },
   "outputs": [],
   "source": []
  }
 ],
 "metadata": {
  "anaconda-cloud": {},
  "kernelspec": {
   "display_name": "Python [conda root]",
   "language": "python",
   "name": "conda-root-py"
  },
  "language_info": {
   "codemirror_mode": {
    "name": "ipython",
    "version": 3
   },
   "file_extension": ".py",
   "mimetype": "text/x-python",
   "name": "python",
   "nbconvert_exporter": "python",
   "pygments_lexer": "ipython3",
   "version": "3.5.2"
  }
 },
 "nbformat": 4,
 "nbformat_minor": 0
}
